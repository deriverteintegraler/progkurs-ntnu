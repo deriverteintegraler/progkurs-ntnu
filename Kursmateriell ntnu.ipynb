{
 "cells": [
  {
   "cell_type": "markdown",
   "metadata": {},
   "source": [
    "# Kursmateriell kurs ved NTNU 13. mars 2021\n",
    "- Strukturering av programmer og funksjoner, feilsøking.\n",
    "- Datastrukturer: Lister, tekststrenger, tupler og Dictionary.\n",
    "- Filbehandling (lese fra filer, lagre/skrive til filer).\n",
    "- Rekursive funksjoner.\n",
    "- Plotting av grafer. 2d, 3d ++\n",
    "- Numerikk: Numerisk integrasjon med trapsmetoden eller Simpsonsmetode, Newtons metode, Eulers metode.\n",
    "\n",
    "Datastrukturer finnes i egne filer:\n",
    "- 02 Strenger og printing.ipynb\n",
    "- 05 Lister.ipynb\n",
    "- 08 Tuples.ipynb\n",
    "- 09 Dictionaries.ipynb\n",
    "\n",
    "Filbehandling er i en egen fil som heter\n",
    "- Filbehandling"
   ]
  },
  {
   "cell_type": "markdown",
   "metadata": {},
   "source": [
    "## Strukturering av programmer og funksjoner, feilsøking."
   ]
  },
  {
   "cell_type": "markdown",
   "metadata": {},
   "source": [
    "## Kortpoeng\n",
    "Vi skal nå trekke kort fra en kortstokk og gi et visst antall poeng avhengig av de to reglene under. Vi skal huske poengene og legge sammen fra runde til runde og se hva totalen er. Vi begynner med null poeng.\n",
    "\n",
    "Hvis kortet er spar, legg til 2 poeng.\n",
    "Ellers, hvis kortet er hjerter, legg til 1 poeng.\n",
    "Ellers, trekk fra 1 poeng.\n",
    "\n",
    "Hvis kortet er et bildekort (J, Q, K), legg til 5 poeng.\n",
    "Ellers, legg til så mange poeng som tallet kortet representerer.\n",
    "\n",
    "H5\n",
    "SJ\n",
    "CK\n",
    "\n",
    "D4\n",
    "SQ\n",
    "H8\n",
    "\n",
    "\n",
    "\n",
    "\n",
    "\n",
    "\n",
    "\n",
    "###### Tegn flytskjema for dette\n",
    "Hva skjer med ess?\n",
    "\n",
    "Hva skjer med joker? Bridgereglene?\n",
    "\n",
    "Hva skjer hvis vi trekker kløver eller ruter som første kort?\n",
    "\n",
    "### Testcase 1\n",
    "H5: poeng = 6\n",
    "\n",
    "SJ: poeng = 13\n",
    "\n",
    "CK: poeng = 17\n",
    "\n",
    "### Testcase 2\n",
    "D4: poeng = 3\n",
    "\n",
    "SQ: poeng = 10\n",
    "\n",
    "H8: poeng = 19"
   ]
  },
  {
   "cell_type": "code",
   "execution_count": null,
   "metadata": {},
   "outputs": [],
   "source": [
    "poeng = 0\n",
    "\n",
    "def kortpoeng(kort):\n",
    "    \"\"\"\n",
    "    Kortene skal gis på formen 'HQ' for hjerter dame, 'C3' for kløver 3.\n",
    "    C-clubs-kløver\n",
    "    S-spades-spar\n",
    "    H-hearts-hjerter\n",
    "    D-diamonds-ruter\n",
    "    K-king-konge\n",
    "    Q-queen-dame\n",
    "    J-jack-knekt\n",
    "    \"\"\"\n",
    "    global poeng\n",
    "    \n",
    "    farge = kort[0]\n",
    "    verdi = kort[1:]\n",
    "    \n",
    "    if farge == 'S':\n",
    "        poeng += 2\n",
    "    elif farge == 'H':\n",
    "        poeng += 1\n",
    "    else:\n",
    "        poeng -= 1\n",
    "        \n",
    "    \n",
    "    if verdi == 'K' or verdi == 'Q' or verdi == 'J':\n",
    "        poeng += 5\n",
    "    else:\n",
    "        poeng += int(verdi)\n",
    "    print('Du har nå',poeng,'poeng.')\n",
    "    # print('Du har nå '+str(poeng)+' poeng.')"
   ]
  },
  {
   "cell_type": "code",
   "execution_count": null,
   "metadata": {},
   "outputs": [],
   "source": [
    "kortpoeng('H5')\n",
    "kortpoeng('SJ')\n",
    "kortpoeng('CK')"
   ]
  },
  {
   "cell_type": "markdown",
   "metadata": {},
   "source": [
    "### Oppgave 1\n",
    "#### a)\n",
    "Lag flytskjema for kortreglene som er definert nedenfor.\n",
    "\n",
    "Hvis kortet er kløver, legg til 1 poeng. Ellers, hvis kortet er spar, legg til 2 poeng. Ellers, hvis kortet er ruter, legg til 3 poeng. Ellers, trekk fra 1 poeng.\n",
    "\n",
    "Hvis kortet er ess eller 2, gang antall poeng med 2.\n",
    "\n",
    "Test:\n",
    "\n",
    "Starter på null poeng.\n",
    "\n",
    "Kløver ess: 2\n",
    "\n",
    "Ruter to: 10\n",
    "\n",
    "Spar fire: 12\n",
    "\n",
    "#### b)\n",
    "Fyll inn de linjene som mangler i koden nedenfor for å skape et program som gir poeng til ulike kort etter reglene over."
   ]
  },
  {
   "cell_type": "code",
   "execution_count": null,
   "metadata": {},
   "outputs": [],
   "source": [
    "poeng = 0\n",
    "\n",
    "def kortpoeng2(kort):\n",
    "    \"\"\"\n",
    "    Kortene skal gis på formen 'HQ' for hjerter dame, 'C3' for kløver 3.\n",
    "    C-clubs-kløver\n",
    "    S-spades-spar\n",
    "    H-hearts-hjerter\n",
    "    D-diamonds-ruter\n",
    "    A-ace-ess\n",
    "    K-king-konge\n",
    "    Q-queen-dame\n",
    "    J-jack-knekt\n",
    "    \"\"\"\n",
    "    global poeng\n",
    "    \n",
    "    farge = kort[0]\n",
    "    verdi = kort[1:]\n",
    "    \n",
    "    # Linje 1-8 brukes til første if-else-struktur\n",
    "    # Linje 1\n",
    "    # Linje 2\n",
    "    # Linje 3\n",
    "    # Linje 4\n",
    "    # Linje 5\n",
    "    # Linje 6\n",
    "    # Linje 7\n",
    "    # Linje 8\n",
    "    \n",
    "    # Linje 9-10 brukes til andre if-else-struktur\n",
    "    # Linje 9\n",
    "    # Linje 10\n",
    "    \n",
    "    print('Du har nå',poeng,'poeng.')"
   ]
  },
  {
   "cell_type": "code",
   "execution_count": null,
   "metadata": {},
   "outputs": [],
   "source": [
    "kortpoeng2('CA')\n",
    "kortpoeng2('D2')\n",
    "kortpoeng2('S4')"
   ]
  },
  {
   "cell_type": "markdown",
   "metadata": {},
   "source": [
    "## Rekursive funksjoner\n",
    "Vi har tre standard oppgaver her, og en som er litt mindre standard:\n",
    "- Lag et rekursivt program for å beregne summen av heltallene fra 1 til n\n",
    "- Lag et rekursivt program for å beregne n!\n",
    "- Lag et rekursivt program for å beregne et fibonaccitall\n",
    "- Lag et rekursivt program for å beregne en pascal-trekant"
   ]
  },
  {
   "cell_type": "code",
   "execution_count": 125,
   "metadata": {},
   "outputs": [],
   "source": [
    "def summer_til_n(n):\n",
    "    if n == 0:\n",
    "        return(0)\n",
    "    else:\n",
    "        return(n + summer_til_n(n-1))\n",
    "\n",
    "def fakultet(n):\n",
    "    if n == 0 or n == 1:\n",
    "        return(1)\n",
    "    else:\n",
    "        return(n*fakultet(n-1))\n",
    "\n",
    "def fibonacci_recursive(n):\n",
    "    print(\"Calculating F\", \"(\", n, \")\", sep=\"\", end=\", \")\n",
    "\n",
    "    # Base case\n",
    "    if n == 0:\n",
    "        return 0\n",
    "    elif n == 1:\n",
    "        return 1\n",
    "\n",
    "    # Recursive case\n",
    "    else:\n",
    "        return fibonacci_recursive(n-1) + fibonacci_recursive(n-2)"
   ]
  },
  {
   "cell_type": "code",
   "execution_count": 124,
   "metadata": {},
   "outputs": [
    {
     "name": "stdout",
     "output_type": "stream",
     "text": [
      "15\n"
     ]
    }
   ],
   "source": [
    "print(summer_til_n(5))"
   ]
  },
  {
   "cell_type": "code",
   "execution_count": 130,
   "metadata": {},
   "outputs": [
    {
     "name": "stdout",
     "output_type": "stream",
     "text": [
      "1\n"
     ]
    }
   ],
   "source": [
    "print(fakultet(1))"
   ]
  },
  {
   "cell_type": "code",
   "execution_count": 109,
   "metadata": {},
   "outputs": [],
   "source": [
    "def beregn_pascals_trekant(n, liste = []):\n",
    "    '''\n",
    "    Hjelpetekst\n",
    "    Antar n er heltall større enn null.\n",
    "    '''\n",
    "    if len(liste) == 0:\n",
    "        liste.append([1])\n",
    "    \n",
    "    if len(liste) == n:\n",
    "        return(liste)\n",
    "    else:\n",
    "        forrige_rad = liste[-1]\n",
    "        ny_rad = [1]\n",
    "        \n",
    "        i = 1\n",
    "        while i < len(liste):\n",
    "            ny_rad.append(forrige_rad[i-1]+forrige_rad[i])\n",
    "            i += 1\n",
    "        ny_rad.append(1)\n",
    "        liste.append(ny_rad)\n",
    "        beregn_pascals_trekant(n, liste)\n",
    "    return(liste)"
   ]
  },
  {
   "cell_type": "code",
   "execution_count": 132,
   "metadata": {},
   "outputs": [
    {
     "name": "stdout",
     "output_type": "stream",
     "text": [
      "[[1], [1, 1], [1, 2, 1], [1, 3, 3, 1], [1, 4, 6, 4, 1]]\n"
     ]
    }
   ],
   "source": [
    "print(beregn_pascals_trekant(5))"
   ]
  },
  {
   "cell_type": "markdown",
   "metadata": {},
   "source": [
    "## Plotting av grafer. 2d, 3d ++"
   ]
  },
  {
   "cell_type": "markdown",
   "metadata": {},
   "source": [
    "## Generere tabell med funksjonsverdier og plotte\n",
    "Vi kan lage tabeller med x-verdier og y-verdier for en funksjon og plotte disse, f.eks. ved å bruke en løkke. En god måte å lagre tabellen er som to lister, en med x-verdier og en med y-verdier."
   ]
  },
  {
   "cell_type": "code",
   "execution_count": null,
   "metadata": {},
   "outputs": [],
   "source": [
    "x = []\n",
    "y = []\n",
    "for i in range(-5, 6):\n",
    "    x.append(i)\n",
    "    y.append(i**2)\n",
    "print(x)\n",
    "print(y)"
   ]
  },
  {
   "cell_type": "code",
   "execution_count": null,
   "metadata": {},
   "outputs": [],
   "source": [
    "import matplotlib.pyplot as plt\n",
    "%matplotlib notebook\n",
    "plt.figure()\n",
    "plt.plot(x, y)\n",
    "plt.show()"
   ]
  },
  {
   "cell_type": "code",
   "execution_count": null,
   "metadata": {},
   "outputs": [],
   "source": [
    "import numpy as np\n",
    "x = np.linspace(0, 1, 101) # start, stopp, antall\n",
    "print(x)"
   ]
  },
  {
   "cell_type": "code",
   "execution_count": null,
   "metadata": {},
   "outputs": [],
   "source": [
    "import numpy as np\n",
    "x = np.linspace(-5, 5, 101) # start, stopp, antall\n",
    "y = x**2 # Når x er et numpy-objekt kan vi ta hele\n",
    "         # vektoren kvadrert og får ett og ett element kvadrert.\n",
    "         # Numpy skjønner at vi trolig ønsker å kvadrere ett og ett element.\n",
    "         # Dersom det faktisk er prikk-produktet mellom vektorene du ønsker\n",
    "        # finnes det en egen funksjon for det.\n",
    "plt.figure()\n",
    "plt.plot(x, y)\n",
    "plt.show()"
   ]
  },
  {
   "cell_type": "code",
   "execution_count": null,
   "metadata": {},
   "outputs": [],
   "source": [
    "x = np.linspace(-2*np.pi, 2*np.pi, 1001) # start, stopp, antall\n",
    "y = np.sin(x)\n",
    "plt.figure()\n",
    "plt.plot(x, y)\n",
    "plt.grid()\n",
    "plt.show()"
   ]
  },
  {
   "cell_type": "markdown",
   "metadata": {},
   "source": [
    "### Oppgave\n",
    "#### a)\n",
    "Skriv flytskjema for en funksjon som tar i mot input fra en bruker. Det skal være to inputs, den første er frekvensen til en sinus-funksjon, den andre er amplituden. Din funksjon skal generere t-verdier (eller x-verdier om du vil) mellom 0 og 2 pi og beregne y-verdier for en sinusfunksjon etter mønsteret:\n",
    "\n",
    "amplitude ganger sinus(frekvens ganger t)\n",
    "\n",
    "Til slutt skal grafen plottes.\n",
    "\n",
    "#### b)\n",
    "Fullfør koden under for å skape en funksjon som definert over.\n",
    "\n",
    "Hvis du ønsker å strukturere funksjonen din annerledes enn foreslått i skjelettkoden under, modifiser den så du kan skrive slik du selv vil. Husk å teste den ferdige funksjonen så du vet at den oppfører seg som den skal både for riktig og for gal input."
   ]
  },
  {
   "cell_type": "code",
   "execution_count": null,
   "metadata": {},
   "outputs": [],
   "source": [
    "def plotsin(frekvens, amplitude):\n",
    "    import matplotlib.pyplot as plt\n",
    "    %matplotlib notebook\n",
    "    import numpy as np\n",
    "    \n",
    "    # Opprett en figur\n",
    "    # Plot x og y\n",
    "    # Skru på rutenett\n",
    "    # Vis figuren"
   ]
  },
  {
   "cell_type": "markdown",
   "metadata": {},
   "source": [
    "### Vakre figurer og plots\n",
    "Når vi ikke vet hvordan vi kan lage fine plots og hvilke kommandoer som finnes kan vi bruke andres eksempler og modifisere dem for å passe til våre data. Vi bruker matplotlibs galleri med eksempler:\n",
    "http://matplotlib.org/gallery.html\n",
    "\n",
    "Man kan også lese tutorialen:\n",
    "http://matplotlib.org/users/pyplot_tutorial.html\n",
    "\n",
    "Eller FAQen:\n",
    "http://matplotlib.org/faq/usage_faq.html\n",
    "\n",
    "Flere ressurser her:\n",
    "http://matplotlib.org/resources/index.html"
   ]
  },
  {
   "cell_type": "code",
   "execution_count": null,
   "metadata": {},
   "outputs": [],
   "source": [
    "# http://matplotlib.org/examples/ticks_and_spines/spines_demo_bounds.html\n",
    "\n",
    "import numpy as np\n",
    "import matplotlib.pyplot as plt\n",
    "\n",
    "\n",
    "x = np.linspace(0, 2*np.pi, 50)\n",
    "y = np.sin(x)\n",
    "y2 = y + 0.1 * np.random.normal(size=x.shape)\n",
    "\n",
    "fig, ax = plt.subplots()\n",
    "ax.plot(x, y, 'k--')\n",
    "ax.plot(x, y2, 'ro')\n",
    "\n",
    "# set ticks and tick labels\n",
    "ax.set_xlim((0, 2*np.pi))\n",
    "ax.set_xticks([0, np.pi, 2*np.pi])\n",
    "ax.set_xticklabels(['0', '$\\pi$', '2$\\pi$'])\n",
    "ax.set_ylim((-1.5, 1.5))\n",
    "ax.set_yticks([-1, 0, 1])\n",
    "\n",
    "# Only draw spine between the y-ticks\n",
    "ax.spines['left'].set_bounds(-1, 1)\n",
    "# Hide the right and top spines\n",
    "ax.spines['right'].set_visible(False)\n",
    "ax.spines['top'].set_visible(False)\n",
    "# Only show ticks on the left and bottom spines\n",
    "ax.yaxis.set_ticks_position('left')\n",
    "ax.xaxis.set_ticks_position('bottom')\n",
    "\n",
    "plt.show()"
   ]
  },
  {
   "cell_type": "code",
   "execution_count": null,
   "metadata": {},
   "outputs": [],
   "source": [
    "# http://matplotlib.org/examples/subplots_axes_and_figures/subplot_demo.html\n",
    "\n",
    "\"\"\"\n",
    "Simple demo with multiple subplots.\n",
    "\"\"\"\n",
    "import numpy as np\n",
    "import matplotlib.pyplot as plt\n",
    "\n",
    "\n",
    "x1 = np.linspace(0.0, 5.0)\n",
    "x2 = np.linspace(0.0, 2.0)\n",
    "\n",
    "y1 = np.cos(2 * np.pi * x1) * np.exp(-x1)\n",
    "y2 = np.cos(2 * np.pi * x2)\n",
    "\n",
    "plt.figure()\n",
    "plt.subplot(2, 1, 1)\n",
    "plt.plot(x1, y1, 'yo-')\n",
    "plt.title('A tale of 2 subplots')\n",
    "plt.ylabel('Damped oscillation')\n",
    "\n",
    "plt.subplot(2, 1, 2)\n",
    "plt.plot(x2, y2, 'r.-')\n",
    "plt.xlabel('time (s)')\n",
    "plt.ylabel('Undamped')\n",
    "\n",
    "plt.show()"
   ]
  },
  {
   "cell_type": "code",
   "execution_count": null,
   "metadata": {},
   "outputs": [],
   "source": [
    "from mpl_toolkits.mplot3d import Axes3D\n",
    "from matplotlib import cm\n",
    "from matplotlib.ticker import LinearLocator, FormatStrFormatter\n",
    "import matplotlib.pyplot as plt\n",
    "import numpy as np\n",
    "\n",
    "fig = plt.figure()\n",
    "ax = fig.gca(projection='3d')\n",
    "X = np.arange(-5, 5, 0.25)\n",
    "Y = np.arange(-5, 5, 0.25)\n",
    "X, Y = np.meshgrid(X, Y)\n",
    "R = np.sqrt(X**2 + Y**2)\n",
    "Z = np.sin(R)\n",
    "surf = ax.plot_surface(X, Y, Z, rstride=1, cstride=1, cmap=cm.coolwarm,\n",
    "                       linewidth=0, antialiased=False)\n",
    "ax.set_zlim(-1.01, 1.01)\n",
    "\n",
    "ax.zaxis.set_major_locator(LinearLocator(10))\n",
    "ax.zaxis.set_major_formatter(FormatStrFormatter('%.02f'))\n",
    "\n",
    "fig.colorbar(surf, shrink=0.5, aspect=5)\n",
    "\n",
    "plt.show()"
   ]
  },
  {
   "cell_type": "code",
   "execution_count": null,
   "metadata": {},
   "outputs": [],
   "source": [
    "import numpy as np\n",
    "import matplotlib.pyplot as plt\n",
    "#%matplotlib notebook\n",
    "\n",
    "x = np.linspace(0, 2*np.pi, 101)\n",
    "y1 = np.sin(x)\n",
    "y2 = np.abs(np.cos(x))\n",
    "plt.plot(x, y1, x, y2)\n",
    "plt.ylabel(\"Her er det tekst\")\n",
    "plt.xlabel(\"Teksten kan også inneholde matematikk som f.eks.\" + r'$\\psi = \\cos \\left( 2 \\pi r \\right)$')\n",
    "plt.title(\"Dette er tekst over figuren\")\n",
    "plt.text(0, -0.5, \"$ \\sum^{N}_{i=1} x_i^2 \\cdot \\Delta x \" + r'$$ \\approx $$' +\"\\int_a^b x^2 dx $\", fontsize = 13)\n",
    "plt.legend([\"En kurve\", \"En annen kurve\"])\n",
    "\n",
    "plt.show()"
   ]
  },
  {
   "cell_type": "code",
   "execution_count": null,
   "metadata": {},
   "outputs": [],
   "source": []
  },
  {
   "cell_type": "markdown",
   "metadata": {},
   "source": [
    "# Numerikk:\n",
    "- Numerisk integrasjon med trapsmetoden eller Simpsons metode\n",
    "- Newtons metode\n",
    "- Eulers metode"
   ]
  },
  {
   "cell_type": "code",
   "execution_count": 135,
   "metadata": {},
   "outputs": [],
   "source": [
    "def trapesmetoden(a, b, n):\n",
    "    delta = (b-a)/n\n",
    "    \n",
    "    delsum = f(a)\n",
    "    x = a\n",
    "    for i in range(1, n):\n",
    "        x += delta\n",
    "        delsum += 2*f(x)\n",
    "    delsum += f(b)\n",
    "    \n",
    "    integral = delsum*delta/2\n",
    "    \n",
    "    return(integral)\n",
    "\n",
    "def f(x):\n",
    "    import math\n",
    "    return(math.sin(x**2))"
   ]
  },
  {
   "cell_type": "code",
   "execution_count": 136,
   "metadata": {},
   "outputs": [
    {
     "name": "stdout",
     "output_type": "stream",
     "text": [
      "0.45781062617136004\n"
     ]
    }
   ],
   "source": [
    "print(trapesmetoden(1,3,20))"
   ]
  },
  {
   "cell_type": "markdown",
   "metadata": {},
   "source": [
    "https://www.wolframalpha.com/input/?i=trapezoidal%3A+integrate+sin%28x%5E2%29+from+1+to+3%2C+n%3D20"
   ]
  },
  {
   "cell_type": "code",
   "execution_count": 26,
   "metadata": {},
   "outputs": [],
   "source": [
    "def f(x):\n",
    "    import math\n",
    "    return(x + math.cos(x))\n",
    "\n",
    "def df(x):\n",
    "    import math\n",
    "    return(1 - math.sin(x))\n",
    "\n",
    "def newtons(x0):\n",
    "    return(round(x0 - (f(x0))/(df(x0)) ,5))"
   ]
  },
  {
   "cell_type": "code",
   "execution_count": 27,
   "metadata": {},
   "outputs": [
    {
     "name": "stdout",
     "output_type": "stream",
     "text": [
      "-8.71622\n"
     ]
    }
   ],
   "source": [
    "print(newtons(1))"
   ]
  },
  {
   "cell_type": "code",
   "execution_count": 28,
   "metadata": {},
   "outputs": [
    {
     "data": {
      "text/latex": [
       "$\\displaystyle x \\left(x + \\cos{\\left(x \\right)}\\right)^{2}$"
      ],
      "text/plain": [
       "x*(x + cos(x))**2"
      ]
     },
     "execution_count": 28,
     "metadata": {},
     "output_type": "execute_result"
    }
   ],
   "source": [
    "import sympy as sp\n",
    "x = sp.Symbol('x')\n",
    "\n",
    "g = x + sp.cos(x)\n",
    "x*g**2"
   ]
  },
  {
   "cell_type": "code",
   "execution_count": 29,
   "metadata": {},
   "outputs": [],
   "source": [
    "def newtons2(f, x0):\n",
    "    return(sp.N(x0 - f.subs(x, x0) / sp.diff(f).subs(x, x0),5))"
   ]
  },
  {
   "cell_type": "code",
   "execution_count": 30,
   "metadata": {},
   "outputs": [
    {
     "name": "stdout",
     "output_type": "stream",
     "text": [
      "-8.7162\n"
     ]
    }
   ],
   "source": [
    "print(newtons2(g, 1))"
   ]
  },
  {
   "cell_type": "markdown",
   "metadata": {},
   "source": [
    "Mer om symbolske beregninger i Sympy: https://docs.sympy.org/latest/tutorial/index.html#tutorial"
   ]
  },
  {
   "cell_type": "markdown",
   "metadata": {},
   "source": [
    "https://www.wolframalpha.com/input/?i=1+-+%281%2Bcos%281%29%29%2F%281-sin%281%29%29"
   ]
  },
  {
   "cell_type": "code",
   "execution_count": null,
   "metadata": {},
   "outputs": [],
   "source": []
  },
  {
   "cell_type": "code",
   "execution_count": 58,
   "metadata": {},
   "outputs": [],
   "source": [
    "def eulers(x0,y0,xn,n):\n",
    "    '''\n",
    "    x0 er startverdi x\n",
    "    y0 er startverdi y\n",
    "    xn er sluttverdi x\n",
    "    n er antall steg. F.eks. er dette 5 steg: 0, 0.2, 0.4, 0.6, 0.8, 1.0\n",
    "    '''\n",
    "\n",
    "    import numpy as np\n",
    "    from matplotlib import pyplot as plt\n",
    "    n += 1\n",
    "    deltax = (xn-x0) / (n-1)\n",
    "    x = np.linspace(x0, xn, n)\n",
    "    y = [y0]\n",
    "    for i in range(1, n):\n",
    "        y.append(y[i-1] + deltax * (-0.8*y[i-1] + np.cos(x[i-1])))\n",
    "    for i in range(n):\n",
    "        print(x[i], '\\t', y[i])\n",
    "\n",
    "    plt.plot(x, y, 'ko')\n",
    "    plt.show()"
   ]
  },
  {
   "cell_type": "code",
   "execution_count": 59,
   "metadata": {},
   "outputs": [
    {
     "name": "stdout",
     "output_type": "stream",
     "text": [
      "0.0 \t 1\n",
      "0.06666666666666667 \t 1.0133333333333334\n",
      "0.13333333333333333 \t 1.0258074622689637\n",
      "0.2 \t 1.0371726824168976\n",
      "0.26666666666666666 \t 1.0471945778774125\n",
      "0.3333333333333333 \t 1.0556545100726549\n",
      "0.4 \t 1.0623500659564291\n",
      "0.4666666666666667 \t 1.0670954620389452\n",
      "0.5333333333333333 \t 1.06972190094343\n",
      "0.6 \t 1.0700778775017679\n",
      "0.6666666666666666 \t 1.0680294316956522\n",
      "0.7333333333333333 \t 1.063460346057014\n",
      "0.8 \t 1.0562722854555762\n",
      "0.8666666666666667 \t 1.0463848775210898\n",
      "0.9333333333333333 \t 1.0337357322718952\n",
      "1.0 \t 1.0182803998486694\n"
     ]
    },
    {
     "data": {
      "image/png": "[encoded data removed]",
      "text/plain": [
       "<Figure size 432x288 with 1 Axes>"
      ]
     },
     "metadata": {
      "needs_background": "light"
     },
     "output_type": "display_data"
    }
   ],
   "source": [
    "eulers(0,1,1,15)"
   ]
  },
  {
   "cell_type": "markdown",
   "metadata": {},
   "source": [
    "https://www.wolframalpha.com/input/?i=use+Euler+method+y%27+%3D+-0.8*y%2B+cos%28x%29%2C+y%280%29+%3D+1%2C+from+0+to+1%2C+h+%3D+1%2F15"
   ]
  },
  {
   "cell_type": "code",
   "execution_count": 60,
   "metadata": {},
   "outputs": [],
   "source": [
    "def dy(x,y):\n",
    "    import numpy as np\n",
    "    return(-0.8*y + np.cos(x))\n",
    "\n",
    "def eulers(x0,y0,xn,n):\n",
    "    '''\n",
    "    x0 er startverdi x\n",
    "    y0 er startverdi y\n",
    "    xn er sluttverdi x\n",
    "    n er antall steg. F.eks. er dette 5 steg: 0, 0.2, 0.4, 0.6, 0.8, 1.0\n",
    "    '''\n",
    "\n",
    "    import numpy as np\n",
    "    from matplotlib import pyplot as plt\n",
    "    n += 1\n",
    "    deltax = (xn-x0) / (n-1)\n",
    "    x = np.linspace(x0, xn, n)\n",
    "    y = [y0]\n",
    "    for i in range(1, n):\n",
    "        y.append(y[i-1] + deltax * dy(x[i-1], y[i-1]))\n",
    "    for i in range(n):\n",
    "        print(x[i], '\\t', y[i])\n",
    "\n",
    "    plt.plot(x, y, 'ko')\n",
    "    plt.show()"
   ]
  },
  {
   "cell_type": "code",
   "execution_count": 61,
   "metadata": {},
   "outputs": [
    {
     "name": "stdout",
     "output_type": "stream",
     "text": [
      "0.0 \t 1\n",
      "0.06666666666666667 \t 1.0133333333333334\n",
      "0.13333333333333333 \t 1.0258074622689637\n",
      "0.2 \t 1.0371726824168976\n",
      "0.26666666666666666 \t 1.0471945778774125\n",
      "0.3333333333333333 \t 1.0556545100726549\n",
      "0.4 \t 1.0623500659564291\n",
      "0.4666666666666667 \t 1.0670954620389452\n",
      "0.5333333333333333 \t 1.06972190094343\n",
      "0.6 \t 1.0700778775017679\n",
      "0.6666666666666666 \t 1.0680294316956522\n",
      "0.7333333333333333 \t 1.063460346057014\n",
      "0.8 \t 1.0562722854555762\n",
      "0.8666666666666667 \t 1.0463848775210898\n",
      "0.9333333333333333 \t 1.0337357322718952\n",
      "1.0 \t 1.0182803998486694\n"
     ]
    },
    {
     "data": {
      "image/png": "[encoded data removed]",
      "text/plain": [
       "<Figure size 432x288 with 1 Axes>"
      ]
     },
     "metadata": {
      "needs_background": "light"
     },
     "output_type": "display_data"
    }
   ],
   "source": [
    "eulers(0,1,1,15)"
   ]
  },
  {
   "cell_type": "code",
   "execution_count": null,
   "metadata": {},
   "outputs": [],
   "source": []
  }
 ],
 "metadata": {
  "kernelspec": {
   "display_name": "Python 3",
   "language": "python",
   "name": "python3"
  },
  "language_info": {
   "codemirror_mode": {
    "name": "ipython",
    "version": 3
   },
   "file_extension": ".py",
   "mimetype": "text/x-python",
   "name": "python",
   "nbconvert_exporter": "python",
   "pygments_lexer": "ipython3",
   "version": "3.8.3"
  }
 },
 "nbformat": 4,
 "nbformat_minor": 4
}
